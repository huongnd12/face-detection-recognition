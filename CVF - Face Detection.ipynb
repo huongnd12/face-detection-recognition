{
 "cells": [
  {
   "cell_type": "code",
   "execution_count": 1,
   "metadata": {},
   "outputs": [],
   "source": [
    "import cv2\n",
    "import pickle\n",
    "import os\n",
    "import numpy as np\n",
    "from sklearn.neighbors import KNeighborsClassifier\n",
    "from sklearn.svm import SVC\n",
    "from sklearn.tree import DecisionTreeClassifier"
   ]
  },
  {
   "cell_type": "markdown",
   "metadata": {},
   "source": [
    "### 1. Face Detection and Save data for Recognition"
   ]
  },
  {
   "cell_type": "code",
   "execution_count": 2,
   "metadata": {},
   "outputs": [],
   "source": [
    "# Load Haar-cascade XML file for face dectection\n",
    "cascade_classifier = cv2.CascadeClassifier(cv2.data.haarcascades + 'haarcascade_frontalface_default.xml')\n",
    "faces = []\n",
    "num_save = 10\n",
    "name = input('Enter your name:')\n",
    "camera = cv2.VideoCapture(0)\n",
    "i = 0\n",
    "# ret = True\n",
    "\n",
    "while True:\n",
    "\n",
    "    ret, frame = camera.read()\n",
    "\n",
    "    if ret:\n",
    "        gray = cv2.cvtColor(frame, cv2.COLOR_RGB2GRAY)\n",
    "\n",
    "        # Apply the face dectection method on the grayscale image to return coordinates of detected faces\n",
    "        face_coordinates = cascade_classifier.detectMultiScale(gray, scaleFactor=1.3, minNeighbors=4)\n",
    "\n",
    "        for (x, y, w, h) in face_coordinates:\n",
    "            face = frame[y:y+h, x:x+w, :]\n",
    "            resized_face = cv2.resize(face, (50,50))\n",
    "\n",
    "            if len(faces) < num_save and i % 10 == 0:\n",
    "                faces.append(resized_face)\n",
    "            \n",
    "            # Draw rectangle bounding box for face\n",
    "            cv2.rectangle(frame, (x, y), (x+w, y+h), (0, 255, 0), 3)\n",
    "\n",
    "        cv2.imshow('camera', frame)\n",
    "\n",
    "        i += 1\n",
    "\n",
    "        if cv2.waitKey(0) == 27:\n",
    "            break\n",
    "\n",
    "    else:\n",
    "        print('Error')\n",
    "        break\n",
    "\n",
    "cv2.destroyAllWindows()\n",
    "camera.release()\n",
    "\n",
    "num_face = len(faces)\n",
    "faces = np.array(faces).reshape(len(faces), -1)\n",
    "        "
   ]
  },
  {
   "cell_type": "code",
   "execution_count": 3,
   "metadata": {},
   "outputs": [],
   "source": [
    "# Save face data\n",
    "if 'faces.pkl' not in os.listdir(r\"D:\\AIO2023\\Works\\Computer Vision\\face-detection-data\"):\n",
    "    \n",
    "    with open(r\"D:\\AIO2023\\Works\\Computer Vision\\face-detection-data\\faces.pkl\", 'wb') as file:\n",
    "        pickle.dump(faces, file)\n",
    "else:\n",
    "\n",
    "    with open(r\"D:\\AIO2023\\Works\\Computer Vision\\face-detection-data\\faces.pkl\", 'rb') as file:\n",
    "        faces_1 = pickle.load(file)\n",
    "    faces = np.append(faces_1, faces, axis=0)\n",
    "\n",
    "    with open(r\"D:\\AIO2023\\Works\\Computer Vision\\face-detection-data\\faces.pkl\", 'wb') as file:\n",
    "        pickle.dump(faces, file)\n",
    "\n",
    "\n",
    "# Save label data\n",
    "names = [name] * num_face\n",
    "\n",
    "if 'names.pkl' not in os.listdir(r\"D:\\AIO2023\\Works\\Computer Vision\\face-detection-data\"):\n",
    "    \n",
    "    with open(r\"D:\\AIO2023\\Works\\Computer Vision\\face-detection-data\\names.pkl\", 'wb') as file:\n",
    "        pickle.dump(names, file)\n",
    "else:\n",
    "\n",
    "    with open(r\"D:\\AIO2023\\Works\\Computer Vision\\face-detection-data\\names.pkl\", 'rb') as file:\n",
    "        names_1 = pickle.load(file)\n",
    "    names_1 = names_1 + names\n",
    "\n",
    "    with open(r\"D:\\AIO2023\\Works\\Computer Vision\\face-detection-data\\names.pkl\", 'wb') as file:\n",
    "        pickle.dump(names_1, file)"
   ]
  },
  {
   "cell_type": "markdown",
   "metadata": {},
   "source": [
    "### 2. Face Detection and Recognition"
   ]
  },
  {
   "cell_type": "code",
   "execution_count": 4,
   "metadata": {},
   "outputs": [],
   "source": [
    "# Load data\n",
    "with open(r\"D:\\AIO2023\\Works\\Computer Vision\\face-detection-data\\names.pkl\", 'rb') as file:\n",
    "    labels = pickle.load(file)\n",
    "\n",
    "with open(r\"D:\\AIO2023\\Works\\Computer Vision\\face-detection-data\\faces.pkl\", 'rb') as file:\n",
    "    faces = pickle.load(file)"
   ]
  },
  {
   "cell_type": "markdown",
   "metadata": {},
   "source": [
    "#### 2.1. KNN Classifier"
   ]
  },
  {
   "cell_type": "code",
   "execution_count": 5,
   "metadata": {},
   "outputs": [
    {
     "data": {
      "text/plain": [
       "KNeighborsClassifier()"
      ]
     },
     "execution_count": 5,
     "metadata": {},
     "output_type": "execute_result"
    }
   ],
   "source": [
    "# Fit KNN model\n",
    "knn_cls = KNeighborsClassifier(n_neighbors=5)\n",
    "knn_cls.fit(faces, labels)"
   ]
  },
  {
   "cell_type": "code",
   "execution_count": 6,
   "metadata": {},
   "outputs": [],
   "source": [
    "# Reference\n",
    "camera = cv2.VideoCapture(0)\n",
    "cascade_classifier = cv2.CascadeClassifier(cv2.data.haarcascades + 'haarcascade_frontalface_default.xml')\n",
    "\n",
    "while True:\n",
    "    ret, frame = camera.read()\n",
    "    if ret:\n",
    "        gray = cv2.cvtColor(frame, cv2.COLOR_RGB2GRAY)\n",
    "\n",
    "        face_coordinates = cascade_classifier.detectMultiScale(gray, 1.3, 4)\n",
    "\n",
    "        for (x, y, w, h) in face_coordinates:\n",
    "            face = frame[y:y+h, x:x+w, :]\n",
    "            resized_face = cv2.resize(face, (50, 50)).flatten().reshape(1, -1)\n",
    "\n",
    "            name = knn_cls.predict(resized_face)\n",
    "\n",
    "            cv2.putText(frame, name[0], (x, y-10), cv2.FONT_HERSHEY_SIMPLEX, 0.8, (255, 255, 0), 2)\n",
    "            cv2.rectangle(frame, (x, y), (x+w, y+h), (0, 255, 0), 3)\n",
    "\n",
    "        cv2.imshow('camera', frame)\n",
    "\n",
    "        if cv2.waitKey(1) == 27:\n",
    "            break\n",
    "    else:\n",
    "        print('Error')\n",
    "        break\n",
    "\n",
    "cv2.destroyAllWindows()\n",
    "camera.release()"
   ]
  },
  {
   "cell_type": "markdown",
   "metadata": {},
   "source": [
    "#### 2.2. SVC"
   ]
  },
  {
   "cell_type": "code",
   "execution_count": 7,
   "metadata": {},
   "outputs": [
    {
     "data": {
      "text/plain": [
       "SVC()"
      ]
     },
     "execution_count": 7,
     "metadata": {},
     "output_type": "execute_result"
    }
   ],
   "source": [
    "# Fit SVM Classifier\n",
    "svc = SVC(kernel='rbf')\n",
    "svc.fit(faces, labels)"
   ]
  },
  {
   "cell_type": "code",
   "execution_count": 8,
   "metadata": {},
   "outputs": [],
   "source": [
    "# Reference\n",
    "camera = cv2.VideoCapture(0)\n",
    "cascade_classifier = cv2.CascadeClassifier(cv2.data.haarcascades + 'haarcascade_frontalface_default.xml')\n",
    "\n",
    "while True:\n",
    "    ret, frame = camera.read()\n",
    "    if ret:\n",
    "        gray = cv2.cvtColor(frame, cv2.COLOR_RGB2GRAY)\n",
    "\n",
    "        face_coordinates = cascade_classifier.detectMultiScale(gray, 1.3, 4)\n",
    "\n",
    "        for (x, y, w, h) in face_coordinates:\n",
    "            face = frame[y:y+h, x:x+w, :]\n",
    "            resized_face = cv2.resize(face, (50, 50)).flatten().reshape(1, -1)\n",
    "\n",
    "            name = svc.predict(resized_face)\n",
    "\n",
    "            cv2.putText(frame, name[0], (x, y-10), cv2.FONT_HERSHEY_SIMPLEX, 0.8, (255, 255, 0), 2)\n",
    "            cv2.rectangle(frame, (x, y), (x+w, y+h), (0, 255, 0), 3)\n",
    "\n",
    "        cv2.imshow('camera', frame)\n",
    "\n",
    "        if cv2.waitKey(1) == 27:\n",
    "            break\n",
    "    else:\n",
    "        print('Error')\n",
    "        break\n",
    "\n",
    "cv2.destroyAllWindows()\n",
    "camera.release()"
   ]
  },
  {
   "cell_type": "markdown",
   "metadata": {},
   "source": [
    "#### 2.3. Decision Tree Classifier"
   ]
  },
  {
   "cell_type": "code",
   "execution_count": 9,
   "metadata": {},
   "outputs": [
    {
     "data": {
      "text/plain": [
       "DecisionTreeClassifier(max_depth=2)"
      ]
     },
     "execution_count": 9,
     "metadata": {},
     "output_type": "execute_result"
    }
   ],
   "source": [
    "# Fit Decision Tree Classifier\n",
    "tree_cls = DecisionTreeClassifier(max_depth=2, criterion='gini')\n",
    "tree_cls.fit(faces, labels)"
   ]
  },
  {
   "cell_type": "code",
   "execution_count": 10,
   "metadata": {},
   "outputs": [],
   "source": [
    "# Reference\n",
    "camera = cv2.VideoCapture(0)\n",
    "cascade_classifier = cv2.CascadeClassifier(cv2.data.haarcascades + 'haarcascade_frontalface_default.xml')\n",
    "\n",
    "while True:\n",
    "    ret, frame = camera.read()\n",
    "    if ret:\n",
    "        gray = cv2.cvtColor(frame, cv2.COLOR_RGB2GRAY)\n",
    "\n",
    "        face_coordinates = cascade_classifier.detectMultiScale(gray, 1.3, 4)\n",
    "\n",
    "        for (x, y, w, h) in face_coordinates:\n",
    "            face = frame[y:y+h, x:x+w, :]\n",
    "            resized_face = cv2.resize(face, (50, 50)).flatten().reshape(1, -1)\n",
    "\n",
    "            name = tree_cls.predict(resized_face)\n",
    "\n",
    "            cv2.putText(frame, name[0], (x, y-10), cv2.FONT_HERSHEY_SIMPLEX, 0.8, (255, 255, 0), 2)\n",
    "            cv2.rectangle(frame, (x, y), (x+w, y+h), (0, 255, 0), 3)\n",
    "\n",
    "        cv2.imshow('camera', frame)\n",
    "\n",
    "        if cv2.waitKey(1) == 27:\n",
    "            break\n",
    "    else:\n",
    "        print('Error')\n",
    "        break\n",
    "\n",
    "cv2.destroyAllWindows()\n",
    "camera.release()"
   ]
  }
 ],
 "metadata": {
  "kernelspec": {
   "display_name": "base",
   "language": "python",
   "name": "python3"
  },
  "language_info": {
   "codemirror_mode": {
    "name": "ipython",
    "version": 3
   },
   "file_extension": ".py",
   "mimetype": "text/x-python",
   "name": "python",
   "nbconvert_exporter": "python",
   "pygments_lexer": "ipython3",
   "version": "3.9.7"
  }
 },
 "nbformat": 4,
 "nbformat_minor": 2
}
